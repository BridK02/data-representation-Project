{
 "cells": [
  {
   "cell_type": "markdown",
   "metadata": {},
   "source": [
    "# <center>  DATA-REPRESENTATION PROJECT \n",
    "\n",
    "Author Brid Kennedy\n",
    "\n",
    "Winter Term 2023\n"
   ]
  },
  {
   "cell_type": "markdown",
   "metadata": {},
   "source": [
    "# Brief\n",
    "Write a program that demonstrates that you understand creating and consuming RESTful APIs. I will allow a lot of flexibility in this project, so that you can use it as an opportunity to do something that is useful for your work. If you cannot think of a project to do: Create a Web application in Flask that has a RESTful API, the application should link to one or more database tables. You should also create the web pages that can consume the API. I.e. performs CRUD operations on the data."
   ]
  },
  {
   "cell_type": "markdown",
   "id": "531d55cb",
   "metadata": {},
   "source": [
    "My plan is to creat a web application that allows users to book yoga classes which palys appropriate music to showcase my understanding of creating and consuming RESTful APIs. \n",
    "\n",
    "Here's how I plan to approach this project:\n",
    "\n",
    "Choose Tech Stack:\n",
    "\n",
    "Python: I will use Flask, to build the web application with a RESTful API.\n",
    "Database: I will use the relational database MySQL to store information about yoga classes, users, and bookings.\n",
    "Frontend: HTML, CSS, and JavaScript for creating web pages to consume the API. You can use a frontend framework like React, Vue.js, or just plain HTML/CSS/JS.\n",
    "\n",
    "Project Structure:\n",
    "The Project will be organised into separate directories for different components, such as:\n",
    "\n",
    "app: This directory will contain my Flask application.\n",
    "templates: HTML templates for rendering web pages.\n",
    "static: CSS and JavaScript files.\n",
    "database: Define database models and database connection here.\n",
    "Design API:\n",
    "Define the endpoints and methods for the RESTful API. For example:\n",
    "\n",
    "GET /classes: Get a list of available yoga classes.\n",
    "GET /classes/{class_id}: Get details of a specific class.\n",
    "POST /bookings: Create a new booking.\n",
    "PUT /bookings/{booking_id}: Update a booking.\n",
    "DELETE /bookings/{booking_id}: Cancel a booking.\n",
    "\n",
    "Implement  Flask Application:\n",
    "Set up the Flask application with routes and views.\n",
    "Create API endpoints that interact with your database.\n",
    "Implement CRUD operations for classes, users, and bookings.\n",
    "\n",
    "Create Web Pages:\n",
    "Design web pages for users to browse available yoga classes and book them.\n",
    "Use HTML and CSS to make the web pages visually appealing.\n",
    "Use JavaScript to make AJAX calls to your API endpoints for CRUD operations.\n",
    "\n",
    "Database Integration:\n",
    "Set up database tables for classes, users, and bookings.\n",
    "Use an Object-Relational Mapping (ORM) like SQLAlchemy to interact with the database.\n",
    "\n",
    "Authentication:\n",
    "Implement user authentication to allow users to log in.\n",
    "Secure your API endpoints by requiring authentication for booking classes.\n",
    "\n",
    "Deployment:\n",
    "Host the web application online, as mentioned in project guidelines (e.g., Azure, PythonAnywhere).\n",
    "\n",
    "Documentation:\n",
    "Create a README file that explains how to set up and run your project.\n",
    "Include information about your project's structure, how to install dependencies, and any configuration settings.\n",
    "\n",
    "Testing:\n",
    "Test your application thoroughly to ensure it works as expected.\n",
    "Consider writing unit tests for your API endpoints.\n",
    "\n",
    "Additional Features (?):\n",
    "Email notifications for class bookings, user profiles, or social media sharing.\n"
   ]
  },
  {
   "cell_type": "markdown",
   "metadata": {},
   "source": [
    "I used SQLAlchemy, as typically you don't need to explicitly get a cursor as you would with raw SQL using the MySQLdb or similar libraries. SQLAlchemy abstracts away the low-level details of interacting with the database, providing a higher-level, more Pythonic interface.\n",
    "\n",
    "In SQLAlchemy, you interact with the database using an ORM (Object-Relational Mapping), and sessions are used to manage transactions and database connections. The Session class provides a high-level API for interacting with the database.\n",
    "\n",
    "\n",
    "python -m venv venv\n",
    "venv\\Scripts\\activate\n",
    "pip install -r requirements.txt\n",
    "(venv) λ python app.py\n"
   ]
  }
 ],
 "metadata": {
  "kernelspec": {
   "display_name": "Python 3 (ipykernel)",
   "language": "python",
   "name": "python3"
  },
  "language_info": {
   "codemirror_mode": {
    "name": "ipython",
    "version": 3
   },
   "file_extension": ".py",
   "mimetype": "text/x-python",
   "name": "python",
   "nbconvert_exporter": "python",
   "pygments_lexer": "ipython3",
   "version": "3.11.4"
  }
 },
 "nbformat": 4,
 "nbformat_minor": 5
}
